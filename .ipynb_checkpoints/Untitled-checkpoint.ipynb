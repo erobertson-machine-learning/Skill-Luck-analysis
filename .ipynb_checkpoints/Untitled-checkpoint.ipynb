{
 "cells": [
  {
   "cell_type": "markdown",
   "metadata": {},
   "source": [
    "# Expiremnt to see how skills and luck play a role in selection of job applicants"
   ]
  },
  {
   "cell_type": "code",
   "execution_count": 3,
   "metadata": {},
   "outputs": [],
   "source": [
    "import random"
   ]
  },
  {
   "cell_type": "code",
   "execution_count": 72,
   "metadata": {},
   "outputs": [],
   "source": [
    "# Now lets define an event as ocuring where each person gets a luck roll and is given a modifier if they win\n",
    "def event ( people, round_id , cut = 5, award = 5, luck = 0.05 ):\n",
    "    \n",
    "    def score ( p ):\n",
    "        true_score = p['skill'] + sum( [ val for (i,val) in p['modifiers'] ] )\n",
    "        return true_score * p['luck'][-1][1]\n",
    "    \n",
    "\n",
    "    for person in people:\n",
    "        l = round(1 + (random.random() * luck ) - luck/2,2)\n",
    "        person['luck'].append( (round_id, l  ) )\n",
    "        \n",
    "    scores = [ (score(p),i) for (i,p) in enumerate( people ) ]\n",
    "    \n",
    "    scores.sort()\n",
    "    for (score,i) in scores[:cut]:\n",
    "        people[i] = False\n",
    "        \n",
    "    scores.sort(reverse = True)\n",
    "    for (score,i) in scores[:award]:\n",
    "        people[i]['modifiers'].append((round_id,round(random.random(),2)))\n",
    "\n",
    "    return list(filter( lambda p: p is not False, people ) )"
   ]
  },
  {
   "cell_type": "code",
   "execution_count": 87,
   "metadata": {},
   "outputs": [
    {
     "name": "stdout",
     "output_type": "stream",
     "text": [
      "50\n"
     ]
    }
   ],
   "source": [
    "people = [\n",
    "    { 'skill' : round(random.random()*10,2), 'modifiers' : [], 'luck' : [] }\n",
    "    for i in range ( 5000 )\n",
    "]\n",
    "for i in range( 99 ):\n",
    "    people = event( people, 0, cut=50,award=0,luck=1 )\n",
    "print( len( people ))"
   ]
  },
  {
   "cell_type": "code",
   "execution_count": 88,
   "metadata": {},
   "outputs": [
    {
     "data": {
      "text/plain": [
       "<matplotlib.collections.PathCollection at 0x27473a9eb00>"
      ]
     },
     "execution_count": 88,
     "metadata": {},
     "output_type": "execute_result"
    },
    {
     "data": {
      "image/png": "[encoded data removed]",
      "text/plain": [
       "<Figure size 432x288 with 1 Axes>"
      ]
     },
     "metadata": {
      "needs_background": "light"
     },
     "output_type": "display_data"
    }
   ],
   "source": [
    "import matplotlib.pyplot as plot\n",
    "def real_score (p):\n",
    "    return (\n",
    "        p['skill'],\n",
    "        sum( [ val for (i,val) in p['luck'] ] )/(len(p['luck']))\n",
    "    )\n",
    "x = []\n",
    "y = []\n",
    "for p in people :\n",
    "    (_x,_y) = real_score(p)\n",
    "    x.append(_x)\n",
    "    y.append(_y)\n",
    "plot.scatter( x,y )"
   ]
  },
  {
   "cell_type": "code",
   "execution_count": null,
   "metadata": {},
   "outputs": [],
   "source": []
  }
 ],
 "metadata": {
  "kernelspec": {
   "display_name": "Python 3",
   "language": "python",
   "name": "python3"
  },
  "language_info": {
   "codemirror_mode": {
    "name": "ipython",
    "version": 3
   },
   "file_extension": ".py",
   "mimetype": "text/x-python",
   "name": "python",
   "nbconvert_exporter": "python",
   "pygments_lexer": "ipython3",
   "version": "3.7.3"
  }
 },
 "nbformat": 4,
 "nbformat_minor": 4
}
